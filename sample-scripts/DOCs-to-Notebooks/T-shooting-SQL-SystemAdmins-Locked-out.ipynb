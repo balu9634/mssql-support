{
    "metadata": {
        "kernelspec": {
            "name": "powershell",
            "display_name": "PowerShell",
            "language": "powershell"
        },
        "language_info": {
            "name": "powershell",
            "codemirror_mode": "shell",
            "mimetype": "text/x-sh",
            "file_extension": ".ps1"
        },
		"azdata_notebook_guid": "9121088A-F440-4AD9-9F05-F87A76A12D57",
        "extensions": {
            "azuredatastudio": {
                "version": 1,
                "views": []
            }
        }
    },
    "nbformat_minor": 2,
    "nbformat": 4,
    "cells": [
        {
            "cell_type": "markdown",
            "source": [
                "# Connect to SQL Server when system administrators are locked out\n",
                "\n",
                "**Applies to:** SQL Server (all supported versions)\n",
                "\n",
                "This article describes how you can regain access to the SQL Server Database Engine as a system administrator if you've been locked out. A system administrator can lose access to an instance of SQL Server due to one of the following reasons:\n",
                "\n",
                "- All logins that are members of the sysadmin fixed server role have been removed by mistake.\n",
                "    \n",
                "- All Windows Groups that are members of the sysadmin fixed server role have been removed by mistake.\n",
                "    \n",
                "- The logins that are members of the sysadmin fixed server role are for individuals who have left the company or who are not available.\n",
                "    \n",
                "- The sa account is disabled or no one knows the password.\n",
                "    \n",
                "\n",
                "## Resolution\n",
                "\n",
                "In order to resolve your access issue, we recommend that you start the instance of SQL Server in single-user mode. This mode prevents other connections from occurring while you try to regain access. From here, you can connect to your instance of SQL Server and add your login to the **sysadmin** server role. Detailed steps for this solution are provided in the [step-by-step-instructions](#step-by-step-instructions) section.\n",
                "\n",
                "You can start an instance of SQL Server in single-user mode with either the `-m` or `-f` options from the command line. Any member of the computer's local Administrators group can then connect to the instance of SQL Server as a member of the **sysadmin** fixed server role.\n",
                "\n",
                "When you start the instance in single-user mode, first stop the SQL Server Agent service. Otherwise, SQL Server Agent might connect first, taking the only available connection to the server and blocking you from logging in.\n",
                "\n",
                "It's also possible for an unknown client application to take the only available connection before you are able to log in. In order to prevent this from happening, you can use the `-m` option followed by an application name to limit connections to a single connection from the specified application. For example, starting SQL Server with `-mSQLCMD` limits connections to a single connection that identifies itself as the **sqlcmd** client program. To connect through the Query Editor in \\\\Management Studio, use `-m\"Microsoft SQL Server Management Studio - Query\"`.\n",
                "\n",
                "> \\[!IMPORTANT\\]  \n",
                "> Do not use `-m` with an application name as a security feature. Client applications specify the application name through the connection string settings, so it can easily be spoofed with a false name.\n",
                "\n",
                "The following table summarizes the different ways to start your instance in single-user mode in the command line.\n",
                "\n",
                "| Option | Description | When to use |\n",
                "| :-- | :-- | :-- |\n",
                "| `-m` | Limits connections to a single connection | When there are no other users attempting to connect to the instance or you are not sure of the application name you are using to connect to the instance. |\n",
                "| `-mSQLCMD` | Limits connections to a single connection that must identify itself as the **sqlcmd** client program | When you plan to connect to the instance with **sqlcmd** and you want to prevent other applications from taking the only available connection. |\n",
                "| `-m\"Microsoft SQL Server Management Studio - Query\"` | Limits connections to a single connection that must identify itself as the **Microsoft SQL Server Management Studio - Query** application. | When you plan to connect to the instance through the Query Editor in Management Studio and you want to prevent other applications from taking the only available connection. |\n",
                "| `-f` | Limits connections to a single connection and starts the instance in minimal configuration | When some other configuration is preventing you from starting. |\n",
                "|  |  |  |\n",
                "\n",
                "## Step by step Instructions\n",
                "\n",
                "For step-by-step instructions about how to start SQL Server in single-user mode, see [Start SQL Server in Single-User Mode](..\\..\\database-engine\\configure-windows\\start-sql-server-in-single-user-mode.md).\n",
                "\n",
                "### Using Powershell\n",
                "\n",
                "1. Open a Windows Powershell command - Run as an Administrator.\n",
                "2. Set up service name and SQL Server instance, and Windows login variables. Replace these with values to match your environment\n",
                ""
            ],
            "metadata": {
                "azdata_cell_guid": "61f036d6-4e68-4988-80a6-8a2747a87bc8"
            },
            "attachments": {}
        },
        {
            "cell_type": "code",
            "source": [
                "$service_name = \"MSSQL`$sql2019\"  # for a default instace use: \"MSSQLSERVER\"\r\n",
                "$sql_server_instance = \"myserver\\sql2019\"\r\n",
                "$login_to_be_granted_access = \"[CONTOSO\\PatK]\""
            ],
            "metadata": {
                "azdata_cell_guid": "6e3d2c52-12f8-4cc1-8d02-d9c641d914db"
            },
            "outputs": [],
            "execution_count": null
        },
        {
            "cell_type": "markdown",
            "source": [
                "3. Stop SQL Server service so it can be restarted with single-user mode, using the following command:\n",
                "\n",
                "> \\[!NOTE\\] To stop and start a service, you need to run this Notebook as an Administrator, or else you will receive an \"Access is denied\" error. Start your notebook application (Azure Data Studio, e.g.) as an Administrator"
            ],
            "metadata": {
                "azdata_cell_guid": "a1c5af02-cec2-4984-a154-dee9d0e4c841"
            },
            "attachments": {}
        },
        {
            "cell_type": "code",
            "source": [
                " net stop $service_name"
            ],
            "metadata": {
                "azdata_cell_guid": "feaaf2e7-301e-4bea-8327-a0f49b548539"
            },
            "outputs": [],
            "execution_count": null
        },
        {
            "cell_type": "markdown",
            "source": [
                "4. Now start your SQL Server instance in a single user mode and only allow SQLCMD.exe to connect (/mSQLCMD)\r\n",
                "\r\n",
                "   > [!NOTE]  \r\n",
                "   > Be sure to use upper-case SQLCMD\r\n",
                ""
            ],
            "metadata": {
                "azdata_cell_guid": "d3e91f9e-5b1c-4df4-9a49-536daaaa2ed4"
            }
        },
        {
            "cell_type": "code",
            "source": [
                "net start $service_name /f /mSQLCMD"
            ],
            "metadata": {
                "azdata_cell_guid": "47eaf6f0-5575-4f45-9328-7923d174b323"
            },
            "outputs": [],
            "execution_count": null
        },
        {
            "cell_type": "markdown",
            "source": [
                "5. Using **SQLCMD** execute a CREATE LOGIN command followed by ALTER SERVER ROLE command. This step assumes you have logged into Windows with an account that is a member of the Local Administrators group. This assumes you have replaced the domain and login names with the credentials you want to give Sysadmin membership.\r\n",
                ""
            ],
            "metadata": {
                "azdata_cell_guid": "dd5061ec-2cd4-4113-b4a5-1e4921dfd7e5"
            }
        },
        {
            "cell_type": "code",
            "source": [
                "sqlcmd.exe -E -S $sql_server_instance -Q \"CREATE LOGIN $login_to_be_granted_access FROM WINDOWS;  ALTER SERVER ROLE sysadmin ADD MEMBER $login_to_be_granted_access; \""
            ],
            "metadata": {
                "azdata_cell_guid": "f319f737-130e-4166-9744-4da69942b49a"
            },
            "outputs": [],
            "execution_count": null
        },
        {
            "cell_type": "markdown",
            "source": [
                "   > [!NOTE]  \r\n",
                "   > If you receive the following error, you must ensure no other SQLCMD has connected to SQL Server: </br>\r\n",
                "   > `Sqlcmd: Error: Microsoft ODBC Driver X for SQL Server : Login failed for user 'CONTOSO\\BobD'. Reason: Server is in single user mode. Only one administrator can connect at this time..`\r\n",
                "\r\n",
                "6. **Mixed Mode (optional):** If your SQL Server is running in mixed authentication mode, you can also:\r\n",
                "    a. Grant the Sysadmin role membership to a SQL login. Execute code such as the following to create a new SQL Server authentication login that is a member of the sysadmin fixed server role. Replace \"?j8:z$G=JE9\" with a strong password of your choice.\r\n",
                ""
            ],
            "metadata": {
                "azdata_cell_guid": "8b48fd76-29a5-4f33-9ef6-b17153fb3bf6"
            }
        },
        {
            "cell_type": "code",
            "source": [
                "$strong_password = \"j8:zG=J?E9\"\r\n",
                "sqlcmd.exe -E -S $sql_server_instance -Q \"CREATE LOGIN TempLogin WITH PASSWORD = '$strong_password'; ALTER SERVER ROLE sysadmin ADD MEMBER TempLogin; \""
            ],
            "metadata": {
                "azdata_cell_guid": "d3abda8f-b514-4d3a-8099-30406e554107"
            },
            "outputs": [],
            "execution_count": null
        },
        {
            "cell_type": "markdown",
            "source": [
                "   b. Also, if your SQL Server is running in mixed authentication mode and you want to reset the password of an enabled **sa** account. Change the password of the sa account with the following syntax. Be sure to replace \"j8:zG=J?E9\" with a strong password of your choice:"
            ],
            "metadata": {
                "azdata_cell_guid": "96379768-95dd-4149-a179-faed2882c343"
            }
        },
        {
            "cell_type": "code",
            "source": [
                "$strong_password = \"j8:zG=J?E9\"\r\n",
                "sqlcmd.exe -E -S $sql_server_instance -Q \"ALTER LOGIN sa WITH PASSWORD = $strong_password; \""
            ],
            "metadata": {
                "azdata_cell_guid": "f70ce0ea-796f-4876-95ad-06371cdc40b8"
            },
            "outputs": [],
            "execution_count": null
        },
        {
            "cell_type": "markdown",
            "source": [
                "7. Stop and restart your SQL Server instance in multi-user mode"
            ],
            "metadata": {
                "azdata_cell_guid": "b3559f2c-0bd4-424e-9a00-90bd3682dc5e"
            }
        },
        {
            "cell_type": "code",
            "source": [
                "net stop $service_name\r\n",
                "net start $service_name"
            ],
            "metadata": {
                "azdata_cell_guid": "8ee689d0-9693-41d7-8fca-567bdecae72f"
            },
            "outputs": [],
            "execution_count": null
        },
        {
            "cell_type": "markdown",
            "source": [
                "### Using SQL Server Configuration Manager and Management Studio (SSMS)\r\n",
                "\r\n",
                "\r\n",
                "These instructions assume,\r\n",
                "\r\n",
                "* SQL Server running on Windows 8 or higher. Slight adjustments for earlier versions of SQL Server or Windows are provided where applicable.\r\n",
                "\r\n",
                "* Management Studio is installed on the computer.  \r\n",
                "\r\n",
                "Perform these instructions while logged in to Windows as a member of the local administrators group.\r\n",
                "\r\n",
                "1.  From the Windows Start menu, right-click the icon for SQL Server Configuration Manager and choose **Run as administrator** to pass your administrator credentials to Configuration Manager.  \r\n",
                "  \r\n",
                "2.  In SQL Server Configuration Manager, in the left pane, select **SQL Server Services**. In the right-pane, find your instance of SQL Server. (The default instance of SQL Server includes **(MSSQLSERVER)** after the computer name. Named instances appear in upper case with the same name that they have in Registered Servers.) Right-click the instance of SQL Server, and then click **Properties**.  \r\n",
                "  \r\n",
                "3.  On the **Startup Parameters** tab, in the **Specify a startup parameter** box, type `-m` and then click **Add**. (That's a dash then lower case letter m.)  \r\n",
                "  \r\n",
                "    > [!NOTE]  \r\n",
                "    >  For some earlier versions of SQL Server there is no **Startup Parameters** tab. In that case, on the **Advanced** tab, double-click **Startup Parameters**. The parameters open up in a very small window. Be careful not to change any of the existing parameters. At the very end, add a new parameter `;-m` and then click **OK**. (That's a semi-colon then a dash then lower case letter m.)  \r\n",
                "  \r\n",
                "4.  Click **OK**, and after the message to restart, right-click your server name, and then click **Restart**.  \r\n",
                "  \r\n",
                "5.  After SQL Server has restarted, your server will be in single-user mode. Make sure that SQL Server Agent is not running. If started, it will take your only connection.  \r\n",
                "  \r\n",
                "6.  From the Windows Start menu, right-click the icon for [!INCLUDE[ssManStudio](../../includes/ssmanstudio-md.md)] and select **Run as administrator**. This will pass your administrator credentials to SSMS.\r\n",
                "  \r\n",
                "    > [!NOTE]  \r\n",
                "    >  For earlier versions of Windows, the **Run as administrator** option appears as a sub-menu.  \r\n",
                "  \r\n",
                "     In some configurations, SSMS will attempt to make several connections. Multiple connections will fail because SQL Server is in single-user mode. Based on your scenario, perform one of the following actions.  \r\n",
                "  \r\n",
                "    a.  Connect with Object Explorer using Windows Authentication, which includes your Administrator credentials. Expand **Security**, expand **Logins**, and double-click your own login. On the **Server Roles** page, select **sysadmin**, and then click **OK**.  \r\n",
                "  \r\n",
                "    b.  Instead of connecting with Object Explorer, connect with a Query Window using Windows Authentication (which includes your Administrator credentials). (You can only connect this way if you did not connect with Object Explorer.) Execute code such as the following to add a new Windows Authentication login that is a member of the **sysadmin** fixed server role. The following example adds a domain user named `CONTOSO\\PatK`.  \r\n",
                "  "
            ],
            "metadata": {
                "azdata_cell_guid": "e45b51aa-320c-437e-ad13-ef92b8deacdc"
            }
        },
        {
            "cell_type": "code",
            "source": [
                "CREATE LOGIN [CONTOSO\\PatK] FROM WINDOWS;  \r\n",
                "ALTER SERVER ROLE sysadmin ADD MEMBER [CONTOSO\\PatK];"
            ],
            "metadata": {
                "azdata_cell_guid": "c316a5d9-41e7-4dd3-9bbf-bcbd9442b829"
            },
            "outputs": [],
            "execution_count": null
        },
        {
            "cell_type": "markdown",
            "source": [
                "           c. If your SQL Server is running in mixed authentication mode, connect with a Query Window using Windows Authentication (which includes your Administrator credentials). Execute code such as the following to create a new SQL Server authentication login that is a member of the **sysadmin** fixed server role."
            ],
            "metadata": {
                "azdata_cell_guid": "ffbcc30c-e772-4b86-9022-b86d3d0852e9"
            },
            "attachments": {}
        },
        {
            "cell_type": "code",
            "source": [
                "CREATE LOGIN TempLogin WITH PASSWORD = '************';  \r\n",
                "ALTER SERVER ROLE sysadmin ADD MEMBER TempLogin;  "
            ],
            "metadata": {
                "azdata_cell_guid": "c80a9307-0b94-4896-befc-ff495a197133"
            },
            "outputs": [],
            "execution_count": null
        },
        {
            "cell_type": "markdown",
            "source": [
                "   > \\[!WARNING\\]  \n",
                "   > Replace ****\\*\\*\\*\\***** with a strong password.\n",
                "\n",
                "          d. If your SQL Server is running in mixed authentication mode and you want to reset the password of the **sa** account, connect with a Query Window using Windows Authentication (which includes your Administrator credentials). Change the password of the **sa** account with the following syntax."
            ],
            "metadata": {
                "azdata_cell_guid": "19866c10-db4d-45b5-9d75-4e7575639247"
            },
            "attachments": {}
        },
        {
            "cell_type": "code",
            "source": [
                "ALTER LOGIN sa WITH PASSWORD = '************'; "
            ],
            "metadata": {
                "azdata_cell_guid": "984ef2f0-f2a7-43e7-8a9f-a1c343319c71"
            },
            "outputs": [],
            "execution_count": null
        },
        {
            "cell_type": "markdown",
            "source": [
                "  \r\n",
                " > [!WARNING] \r\n",
                " >  Replace ************ with a strong password.  \r\n",
                "\r\n",
                "7. Close [!INCLUDE[ssManStudio](../../includes/ssmanstudio-md.md)].  \r\n",
                "  \r\n",
                "8. These next few steps change SQL Server back to multi-user mode. In SQL Server Configuration Manager, in the left pane, select **SQL Server Services**.\r\n",
                "\r\n",
                "9. In the right-pane, right-click the instance of SQL Server, and then click **Properties**.  \r\n",
                "  \r\n",
                "10. On the **Startup Parameters** tab, in the **Existing parameters** box, select `-m` and then click **Remove**.  \r\n",
                "  \r\n",
                "    > [!NOTE]  \r\n",
                "    >  For some earlier versions of SQL Server there is no **Startup Parameters** tab. In that case, on the **Advanced** tab, double-click **Startup Parameters**. The parameters open up in a very small window. Remove the `;-m` which you added earlier, and then click **OK**.  \r\n",
                "  \r\n",
                "11. Right-click your server name, and then click **Restart**. Make sure to start SQL Server Agent again if you stopped it before starting SQL Server in single-user mode.\r\n",
                "  \r\n",
                "Now you should be able to connect normally with one of the accounts that is now a member of the **sysadmin** fixed server role.  \r\n",
                "  \r\n",
                "## See Also  \r\n",
                "\r\n",
                "* [Configure server startup options](../../database-engine/configure-windows/scm-services-configure-server-startup-options.md)\r\n",
                "* [Database Engine Service Startup Options](../../database-engine/configure-windows/database-engine-service-startup-options.md)  \r\n",
                ""
            ],
            "metadata": {
                "azdata_cell_guid": "c0fc7b68-8f51-46ad-8317-523e11103ebf"
            }
        }
    ]
}
